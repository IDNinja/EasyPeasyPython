{
 "cells": [
  {
   "cell_type": "markdown",
   "metadata": {},
   "source": [
    "# Solve Quadratic Equation"
   ]
  },
  {
   "cell_type": "code",
   "execution_count": 5,
   "metadata": {},
   "outputs": [],
   "source": [
    "import numpy as np\n",
    "import matplotlib as plt"
   ]
  },
  {
   "cell_type": "code",
   "execution_count": 136,
   "metadata": {},
   "outputs": [],
   "source": [
    "def quad_eq(a,b,c):\n",
    "    \"\"\"\n",
    "    This function take coefficients a, b, c in $a x^2 + b x + c x = 0$\n",
    "    and return:\n",
    "    roots of the equation as x1 and x2\n",
    "    it also plots the function $a x^2 + b x + c x = 0$\n",
    "    \"\"\"\n",
    "    if a == 1:\n",
    "        coef1 = ''\n",
    "    else:\n",
    "        coef1 = a\n",
    "        \n",
    "    if b == 1:\n",
    "        coef2 = ''\n",
    "    else:\n",
    "        coef2 = b\n",
    "\n",
    "    if c == 1:\n",
    "        coef3 = ''\n",
    "    else:\n",
    "        coef3 = c\n",
    "            \n",
    "        \n",
    "    print('You wanna solve the eqation {}x^2 + {}x + {}x = 0'.format(coef1, coef2, coef3))\n",
    "    \n",
    "    # Calculate descriminent Delta\n",
    "    delta = b**2 - 4*a*c\n",
    "    \n",
    "    x1 = (-b - np.sqrt(delta)) / (2*a)\n",
    "    x2 = (-b + np.sqrt(delta)) / (2*a)\n",
    "    \n",
    "    print('The solution is: x1 = {}, x2 = {}'.format(x1,x2))\n",
    "    # Done!\n",
    "    \n",
    "\n",
    "    \n",
    "    \n",
    "    print('             ')\n",
    "    print('   _____     ')\n",
    "    print('___________  ')\n",
    "    print('  \\O- -O/    ')\n",
    "    print('     |       ')\n",
    "    print('    /_\\      ')\n",
    "    print('             ')\n",
    "  "
   ]
  },
  {
   "cell_type": "code",
   "execution_count": 137,
   "metadata": {},
   "outputs": [
    {
     "name": "stdout",
     "output_type": "stream",
     "text": [
      "You wanna solve the eqation x^2 + 2x + x = 0\n",
      "The solution is: x1 = -1.0, x2 = -1.0\n",
      "             \n",
      "   _____     \n",
      "___________  \n",
      "  \\O- -O/    \n",
      "     |       \n",
      "    /_\\      \n",
      "             \n"
     ]
    }
   ],
   "source": [
    "quad_eq(1,2,1)"
   ]
  }
 ],
 "metadata": {
  "kernelspec": {
   "display_name": "Python 3",
   "language": "python",
   "name": "python3"
  },
  "language_info": {
   "codemirror_mode": {
    "name": "ipython",
    "version": 3
   },
   "file_extension": ".py",
   "mimetype": "text/x-python",
   "name": "python",
   "nbconvert_exporter": "python",
   "pygments_lexer": "ipython3",
   "version": "3.7.1"
  }
 },
 "nbformat": 4,
 "nbformat_minor": 2
}
