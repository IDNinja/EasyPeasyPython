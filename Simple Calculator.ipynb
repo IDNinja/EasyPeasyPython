{
 "cells": [
  {
   "cell_type": "markdown",
   "metadata": {},
   "source": [
    "# Python Program to Make a Simple Calculator"
   ]
  },
  {
   "cell_type": "markdown",
   "metadata": {},
   "source": [
    "In this example you will learn to create a simple calculator that can add, subtract, multiply or divide depending upon the input from the user."
   ]
  },
  {
   "cell_type": "code",
   "execution_count": 1,
   "metadata": {},
   "outputs": [],
   "source": [
    "# Program a simple and basic calculator\n",
    "# Programmer: Iman\n",
    "# Last update: 2019 - 03 - 24\n",
    "# "
   ]
  },
  {
   "cell_type": "code",
   "execution_count": 33,
   "metadata": {},
   "outputs": [],
   "source": [
    "# Add two numbers\n",
    "\n",
    "def add(x,y):\n",
    "    return x + y\n",
    "\n",
    "# Subtract two numbers\n",
    "def subtract(x,y):\n",
    "    return x - y\n",
    "\n",
    "# Multiply two numbers\n",
    "def multiply(x,y):\n",
    "    return x*y\n",
    "\n",
    "# Divide two numbers\n",
    "def division(x,y):\n",
    "    return x / y\n",
    "\n",
    "\n",
    "\n"
   ]
  },
  {
   "cell_type": "code",
   "execution_count": 41,
   "metadata": {},
   "outputs": [
    {
     "name": "stdout",
     "output_type": "stream",
     "text": [
      "Options on Calculator\n",
      "Add: \"1\" \n",
      "Subtract: \"2\" \n",
      "Multiply: \"3\" \n",
      "Divide: \"4\" \n",
      "what operation you would like to do? 6\n",
      "Enter the first number: 2\n",
      "Enter the second number: 4\n"
     ]
    }
   ],
   "source": [
    "# Get the needed operation from user\n",
    "print('Options on Calculator')\n",
    "print('Add: \"1\" ')\n",
    "print('Subtract: \"2\" ')\n",
    "print('Multiply: \"3\" ')\n",
    "print('Divide: \"4\" ')\n",
    "\n",
    "choice = input(\"what operation you would like to do? \")\n",
    "\n",
    "# Get two numbers from user\n",
    "num1 = int(input(\"Enter the first number: \"))\n",
    "num2 = int(input(\"Enter the second number: \"))"
   ]
  },
  {
   "cell_type": "code",
   "execution_count": 42,
   "metadata": {},
   "outputs": [
    {
     "name": "stdout",
     "output_type": "stream",
     "text": [
      " You picked a number out of set {1,2,3,4} \n"
     ]
    }
   ],
   "source": [
    "if choice == '1':\n",
    "    print(add(num1,num2))\n",
    "elif choice == '2':\n",
    "    print(subtract(num1,num2))\n",
    "elif choice == '3':\n",
    "    print(multiply(num1,num2))\n",
    "elif choice == '4':\n",
    "    if num2 != 0:\n",
    "        print(division(num1,num2))\n",
    "    else:\n",
    "        print(' ill-condition: division by \"0\" ')\n",
    "else:\n",
    "    print(' You picked a number out of set {1,2,3,4} ')\n",
    "            \n"
   ]
  },
  {
   "cell_type": "code",
   "execution_count": null,
   "metadata": {},
   "outputs": [],
   "source": []
  }
 ],
 "metadata": {
  "kernelspec": {
   "display_name": "Python 3",
   "language": "python",
   "name": "python3"
  },
  "language_info": {
   "codemirror_mode": {
    "name": "ipython",
    "version": 3
   },
   "file_extension": ".py",
   "mimetype": "text/x-python",
   "name": "python",
   "nbconvert_exporter": "python",
   "pygments_lexer": "ipython3",
   "version": "3.7.1"
  }
 },
 "nbformat": 4,
 "nbformat_minor": 2
}
