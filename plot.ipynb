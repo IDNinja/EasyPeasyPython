import numpy as np
import matplotlib.pyplot as plt

x = np.linspace(-1,1,1000)
y = x**2
plt.plot(x,y)
